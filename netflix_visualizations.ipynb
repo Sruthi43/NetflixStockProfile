{
 "cells": [
  {
   "cell_type": "markdown",
   "metadata": {},
   "source": [
    "# Introduction\n",
    "\n",
    "In this project, you will act as a data visualization developer at Yahoo Finance! You will be helping the \"Netflix Stock Profile\" team visualize the Netflix stock data. In finance, a _stock profile_ is a series of studies, visualizations, and analyses that dive into different aspects a publicly traded company's data. \n",
    "\n",
    "For the purposes of the project, you will only visualize data for the year of 2017. Specifically, you will be in charge of creating the following visualizations:\n",
    "+ The distribution of the stock prices for the past year\n",
    "+ Netflix's earnings and revenue in the last four quarters\n",
    "+ The actual vs. estimated earnings per share for the four quarters in 2017\n",
    "+ A comparison of the Netflix Stock price vs the Dow Jones Industrial Average price in 2017 \n",
    "\n",
    "Note: We are using the Dow Jones Industrial Average to compare the Netflix stock to the larter stock market. Learn more about why the Dow Jones Industrial Average is a general reflection of the larger stock market [here](https://www.investopedia.com/terms/d/djia.asp).\n",
    "\n",
    "During this project, you will analyze, prepare, and plot data. Your visualizations will help the financial analysts asses the risk of the Netflix stock.\n",
    "\n",
    "After you complete your visualizations, you'll be creating a presentation to share the images with the rest of the Netflix Stock Profile team. Your slides should include:\n",
    "\n",
    "- A title slide\n",
    "- A list of your visualizations and your role in their creation for the \"Stock Profile\" team\n",
    "- A visualization of the distribution of the stock prices for Netflix in 2017\n",
    "- A visualization and a summary of Netflix stock and revenue for the past four quarters and a summary\n",
    "- A visualization and a brief summary of their earned versus actual earnings per share\n",
    "- A visualization of Netflix stock against the Dow Jones stock (to get a sense of the market) in 2017\n",
    "\n",
    "Financial Data Source: [Yahoo Finance](https://finance.yahoo.com/quote/DATA/)\n"
   ]
  },
  {
   "cell_type": "markdown",
   "metadata": {},
   "source": [
    "## Step 1\n",
    "\n",
    "Let's get our notebook ready for visualizing! Import the modules that you'll be using in this project:\n",
    "- `from matplotlib import pyplot as plt`\n",
    "- `import pandas as pd`\n",
    "- `import seaborn as sns`"
   ]
  },
  {
   "cell_type": "code",
   "execution_count": 1,
   "metadata": {},
   "outputs": [],
   "source": [
    "from matplotlib import pyplot as plt\n",
    "import pandas as pd\n",
    "import seaborn as sns"
   ]
  },
  {
   "cell_type": "markdown",
   "metadata": {},
   "source": [
    "## Step 2"
   ]
  },
  {
   "cell_type": "markdown",
   "metadata": {},
   "source": [
    "Let's load the datasets and inspect them."
   ]
  },
  {
   "cell_type": "markdown",
   "metadata": {},
   "source": [
    "Load **NFLX.csv** into a DataFrame called `netflix_stocks`. Then, quickly inspect the DataFrame using `print()`.\n",
    "\n",
    "Hint: Use the `pd.read_csv()`function).\n",
    "\n",
    "Note: In the Yahoo Data, `Adj Close` represents the adjusted close price adjusted for both dividends and splits. This means this is the true closing stock price for a given business day."
   ]
  },
  {
   "cell_type": "code",
   "execution_count": 67,
   "metadata": {},
   "outputs": [
    {
     "data": {
      "text/html": [
       "<div>\n",
       "<style scoped>\n",
       "    .dataframe tbody tr th:only-of-type {\n",
       "        vertical-align: middle;\n",
       "    }\n",
       "\n",
       "    .dataframe tbody tr th {\n",
       "        vertical-align: top;\n",
       "    }\n",
       "\n",
       "    .dataframe thead th {\n",
       "        text-align: right;\n",
       "    }\n",
       "</style>\n",
       "<table border=\"1\" class=\"dataframe\">\n",
       "  <thead>\n",
       "    <tr style=\"text-align: right;\">\n",
       "      <th></th>\n",
       "      <th>Date</th>\n",
       "      <th>Open</th>\n",
       "      <th>High</th>\n",
       "      <th>Low</th>\n",
       "      <th>Close</th>\n",
       "      <th>Adj Close</th>\n",
       "      <th>Volume</th>\n",
       "    </tr>\n",
       "  </thead>\n",
       "  <tbody>\n",
       "    <tr>\n",
       "      <th>0</th>\n",
       "      <td>7/1/2019</td>\n",
       "      <td>373.500000</td>\n",
       "      <td>384.760010</td>\n",
       "      <td>305.809998</td>\n",
       "      <td>322.989990</td>\n",
       "      <td>322.989990</td>\n",
       "      <td>196671300.0</td>\n",
       "    </tr>\n",
       "    <tr>\n",
       "      <th>1</th>\n",
       "      <td>8/1/2019</td>\n",
       "      <td>324.250000</td>\n",
       "      <td>328.579987</td>\n",
       "      <td>287.200012</td>\n",
       "      <td>293.750000</td>\n",
       "      <td>293.750000</td>\n",
       "      <td>137076700.0</td>\n",
       "    </tr>\n",
       "    <tr>\n",
       "      <th>2</th>\n",
       "      <td>9/1/2019</td>\n",
       "      <td>290.820007</td>\n",
       "      <td>301.549988</td>\n",
       "      <td>252.279999</td>\n",
       "      <td>267.619995</td>\n",
       "      <td>267.619995</td>\n",
       "      <td>175411300.0</td>\n",
       "    </tr>\n",
       "    <tr>\n",
       "      <th>3</th>\n",
       "      <td>10/1/2019</td>\n",
       "      <td>267.350006</td>\n",
       "      <td>308.750000</td>\n",
       "      <td>257.010010</td>\n",
       "      <td>287.410004</td>\n",
       "      <td>287.410004</td>\n",
       "      <td>231556400.0</td>\n",
       "    </tr>\n",
       "    <tr>\n",
       "      <th>4</th>\n",
       "      <td>11/1/2019</td>\n",
       "      <td>288.700012</td>\n",
       "      <td>316.820007</td>\n",
       "      <td>281.140015</td>\n",
       "      <td>314.660004</td>\n",
       "      <td>314.660004</td>\n",
       "      <td>113645900.0</td>\n",
       "    </tr>\n",
       "  </tbody>\n",
       "</table>\n",
       "</div>"
      ],
      "text/plain": [
       "        Date        Open        High         Low       Close   Adj Close  \\\n",
       "0   7/1/2019  373.500000  384.760010  305.809998  322.989990  322.989990   \n",
       "1   8/1/2019  324.250000  328.579987  287.200012  293.750000  293.750000   \n",
       "2   9/1/2019  290.820007  301.549988  252.279999  267.619995  267.619995   \n",
       "3  10/1/2019  267.350006  308.750000  257.010010  287.410004  287.410004   \n",
       "4  11/1/2019  288.700012  316.820007  281.140015  314.660004  314.660004   \n",
       "\n",
       "        Volume  \n",
       "0  196671300.0  \n",
       "1  137076700.0  \n",
       "2  175411300.0  \n",
       "3  231556400.0  \n",
       "4  113645900.0  "
      ]
     },
     "execution_count": 67,
     "metadata": {},
     "output_type": "execute_result"
    }
   ],
   "source": [
    "netflix_stocks = pd.read_csv('NFLX(Jul19-Jun20).csv')\n",
    "netflix_stocks.head(5)"
   ]
  },
  {
   "cell_type": "markdown",
   "metadata": {},
   "source": [
    "Load **DJI.csv** into a DataFrame called `dowjones_stocks`. Then, quickly inspect the DataFrame using `print()`.\n",
    "\n",
    "Note: You can learn more about why the Dow Jones Industrial Average is a industry reflection of the larger stock market [here](https://www.investopedia.com/terms/d/djia.asp). \n"
   ]
  },
  {
   "cell_type": "code",
   "execution_count": 68,
   "metadata": {},
   "outputs": [
    {
     "data": {
      "text/html": [
       "<div>\n",
       "<style scoped>\n",
       "    .dataframe tbody tr th:only-of-type {\n",
       "        vertical-align: middle;\n",
       "    }\n",
       "\n",
       "    .dataframe tbody tr th {\n",
       "        vertical-align: top;\n",
       "    }\n",
       "\n",
       "    .dataframe thead th {\n",
       "        text-align: right;\n",
       "    }\n",
       "</style>\n",
       "<table border=\"1\" class=\"dataframe\">\n",
       "  <thead>\n",
       "    <tr style=\"text-align: right;\">\n",
       "      <th></th>\n",
       "      <th>Date</th>\n",
       "      <th>Open</th>\n",
       "      <th>High</th>\n",
       "      <th>Low</th>\n",
       "      <th>Close</th>\n",
       "      <th>Adj Close</th>\n",
       "      <th>Volume</th>\n",
       "    </tr>\n",
       "  </thead>\n",
       "  <tbody>\n",
       "    <tr>\n",
       "      <th>0</th>\n",
       "      <td>7/1/2019</td>\n",
       "      <td>26805.85938</td>\n",
       "      <td>27398.67969</td>\n",
       "      <td>26616.21094</td>\n",
       "      <td>26864.26953</td>\n",
       "      <td>26864.26953</td>\n",
       "      <td>5207470000</td>\n",
       "    </tr>\n",
       "    <tr>\n",
       "      <th>1</th>\n",
       "      <td>8/1/2019</td>\n",
       "      <td>26879.85938</td>\n",
       "      <td>27175.58984</td>\n",
       "      <td>25339.59961</td>\n",
       "      <td>26403.27930</td>\n",
       "      <td>26403.27930</td>\n",
       "      <td>8170730000</td>\n",
       "    </tr>\n",
       "    <tr>\n",
       "      <th>2</th>\n",
       "      <td>9/1/2019</td>\n",
       "      <td>26198.25977</td>\n",
       "      <td>27306.73047</td>\n",
       "      <td>25978.22070</td>\n",
       "      <td>26916.83008</td>\n",
       "      <td>26916.83008</td>\n",
       "      <td>5045520000</td>\n",
       "    </tr>\n",
       "    <tr>\n",
       "      <th>3</th>\n",
       "      <td>10/1/2019</td>\n",
       "      <td>26962.53906</td>\n",
       "      <td>27204.35938</td>\n",
       "      <td>25743.46094</td>\n",
       "      <td>27046.23047</td>\n",
       "      <td>27046.23047</td>\n",
       "      <td>5660960000</td>\n",
       "    </tr>\n",
       "    <tr>\n",
       "      <th>4</th>\n",
       "      <td>11/1/2019</td>\n",
       "      <td>27142.94922</td>\n",
       "      <td>28174.97070</td>\n",
       "      <td>27142.94922</td>\n",
       "      <td>28051.41016</td>\n",
       "      <td>28051.41016</td>\n",
       "      <td>4925180000</td>\n",
       "    </tr>\n",
       "  </tbody>\n",
       "</table>\n",
       "</div>"
      ],
      "text/plain": [
       "        Date         Open         High          Low        Close    Adj Close  \\\n",
       "0   7/1/2019  26805.85938  27398.67969  26616.21094  26864.26953  26864.26953   \n",
       "1   8/1/2019  26879.85938  27175.58984  25339.59961  26403.27930  26403.27930   \n",
       "2   9/1/2019  26198.25977  27306.73047  25978.22070  26916.83008  26916.83008   \n",
       "3  10/1/2019  26962.53906  27204.35938  25743.46094  27046.23047  27046.23047   \n",
       "4  11/1/2019  27142.94922  28174.97070  27142.94922  28051.41016  28051.41016   \n",
       "\n",
       "       Volume  \n",
       "0  5207470000  \n",
       "1  8170730000  \n",
       "2  5045520000  \n",
       "3  5660960000  \n",
       "4  4925180000  "
      ]
     },
     "execution_count": 68,
     "metadata": {},
     "output_type": "execute_result"
    }
   ],
   "source": [
    "dowjones_stocks = pd.read_csv('DJI(Jul19-Jun20).csv')\n",
    "dowjones_stocks.head(5)"
   ]
  },
  {
   "cell_type": "markdown",
   "metadata": {},
   "source": [
    "Load **NFLX_daily_by_quarter.csv** into a DataFrame called `netflix_stocks_quarterly`. Then, quickly inspect the DataFrame using `print()`.\n"
   ]
  },
  {
   "cell_type": "code",
   "execution_count": 69,
   "metadata": {},
   "outputs": [
    {
     "data": {
      "text/html": [
       "<div>\n",
       "<style scoped>\n",
       "    .dataframe tbody tr th:only-of-type {\n",
       "        vertical-align: middle;\n",
       "    }\n",
       "\n",
       "    .dataframe tbody tr th {\n",
       "        vertical-align: top;\n",
       "    }\n",
       "\n",
       "    .dataframe thead th {\n",
       "        text-align: right;\n",
       "    }\n",
       "</style>\n",
       "<table border=\"1\" class=\"dataframe\">\n",
       "  <thead>\n",
       "    <tr style=\"text-align: right;\">\n",
       "      <th></th>\n",
       "      <th>Date</th>\n",
       "      <th>Open</th>\n",
       "      <th>High</th>\n",
       "      <th>Low</th>\n",
       "      <th>Close</th>\n",
       "      <th>Adj Close</th>\n",
       "      <th>Volume</th>\n",
       "      <th>Quarter</th>\n",
       "    </tr>\n",
       "  </thead>\n",
       "  <tbody>\n",
       "    <tr>\n",
       "      <th>0</th>\n",
       "      <td>7/1/2019</td>\n",
       "      <td>373.500000</td>\n",
       "      <td>376.660004</td>\n",
       "      <td>372.000000</td>\n",
       "      <td>374.600006</td>\n",
       "      <td>374.600006</td>\n",
       "      <td>4992600.0</td>\n",
       "      <td>Q3-19</td>\n",
       "    </tr>\n",
       "    <tr>\n",
       "      <th>1</th>\n",
       "      <td>7/2/2019</td>\n",
       "      <td>374.890015</td>\n",
       "      <td>376.000000</td>\n",
       "      <td>370.309998</td>\n",
       "      <td>375.429993</td>\n",
       "      <td>375.429993</td>\n",
       "      <td>3625000.0</td>\n",
       "      <td>Q3-19</td>\n",
       "    </tr>\n",
       "    <tr>\n",
       "      <th>2</th>\n",
       "      <td>7/3/2019</td>\n",
       "      <td>376.690002</td>\n",
       "      <td>381.989990</td>\n",
       "      <td>375.839996</td>\n",
       "      <td>381.720001</td>\n",
       "      <td>381.720001</td>\n",
       "      <td>3799000.0</td>\n",
       "      <td>Q3-19</td>\n",
       "    </tr>\n",
       "    <tr>\n",
       "      <th>3</th>\n",
       "      <td>7/5/2019</td>\n",
       "      <td>378.290009</td>\n",
       "      <td>381.399994</td>\n",
       "      <td>375.559998</td>\n",
       "      <td>380.549988</td>\n",
       "      <td>380.549988</td>\n",
       "      <td>3732200.0</td>\n",
       "      <td>Q3-19</td>\n",
       "    </tr>\n",
       "    <tr>\n",
       "      <th>4</th>\n",
       "      <td>7/8/2019</td>\n",
       "      <td>378.190002</td>\n",
       "      <td>378.250000</td>\n",
       "      <td>375.359985</td>\n",
       "      <td>376.160004</td>\n",
       "      <td>376.160004</td>\n",
       "      <td>3113400.0</td>\n",
       "      <td>Q3-19</td>\n",
       "    </tr>\n",
       "  </tbody>\n",
       "</table>\n",
       "</div>"
      ],
      "text/plain": [
       "       Date        Open        High         Low       Close   Adj Close  \\\n",
       "0  7/1/2019  373.500000  376.660004  372.000000  374.600006  374.600006   \n",
       "1  7/2/2019  374.890015  376.000000  370.309998  375.429993  375.429993   \n",
       "2  7/3/2019  376.690002  381.989990  375.839996  381.720001  381.720001   \n",
       "3  7/5/2019  378.290009  381.399994  375.559998  380.549988  380.549988   \n",
       "4  7/8/2019  378.190002  378.250000  375.359985  376.160004  376.160004   \n",
       "\n",
       "      Volume Quarter  \n",
       "0  4992600.0   Q3-19  \n",
       "1  3625000.0   Q3-19  \n",
       "2  3799000.0   Q3-19  \n",
       "3  3732200.0   Q3-19  \n",
       "4  3113400.0   Q3-19  "
      ]
     },
     "execution_count": 69,
     "metadata": {},
     "output_type": "execute_result"
    }
   ],
   "source": [
    "netflix_stocks_quarterly = pd.read_csv('NFLX(Jul19-Jun20)_by_Quarter.csv')\n",
    "netflix_stocks_quarterly.head(5)"
   ]
  },
  {
   "cell_type": "markdown",
   "metadata": {},
   "source": [
    "## Step 3"
   ]
  },
  {
   "cell_type": "markdown",
   "metadata": {},
   "source": [
    "Let's learn more about our data. The datasets are large and it may be easier to view the entire dataset locally on your computer. Open the CSV files directly from the folder you downloaded for this project.\n",
    " - `NFLX` is the stock ticker symbol for Netflix and `^DJI` is the stock ticker symbol for the Dow Jones industrial Average, which is why the CSV files are named accordingly\n",
    " - In the Yahoo Data, `Adj Close` is documented as adjusted close price adjusted for both dividends and splits.\n",
    " - You can learn more about why the Dow Jones Industrial Average is a industry reflection of the larger stock market [here](https://www.investopedia.com/terms/d/djia.asp). \n",
    " \n",
    "Answer the following questions by inspecting the data in the **NFLX.csv**,**DJI.csv**, and **NFLX_daily_by_quarter.csv** in your computer."
   ]
  },
  {
   "cell_type": "markdown",
   "metadata": {},
   "source": [
    "What year is represented in the data? Look out for the latest and earliest date."
   ]
  },
  {
   "cell_type": "code",
   "execution_count": null,
   "metadata": {},
   "outputs": [],
   "source": []
  },
  {
   "cell_type": "markdown",
   "metadata": {},
   "source": [
    "+ Is the data represented by days, weeks, or months? \n",
    "+ In which ways are the files different? \n",
    "+ What's different about the columns for `netflix_stocks` versus `netflix_stocks_quarterly`?"
   ]
  },
  {
   "cell_type": "code",
   "execution_count": null,
   "metadata": {},
   "outputs": [],
   "source": []
  },
  {
   "cell_type": "markdown",
   "metadata": {},
   "source": [
    "## Step 4\n",
    "\n",
    "Great! Now that we have spent sometime looking at the data, let's look at the column names of the DataFrame `netflix_stocks` using `.head()`. "
   ]
  },
  {
   "cell_type": "code",
   "execution_count": null,
   "metadata": {},
   "outputs": [],
   "source": []
  },
  {
   "cell_type": "markdown",
   "metadata": {},
   "source": [
    "What do you notice? The first two column names are one word each, and the only one that is not is `Adj Close`! \n",
    "\n",
    "The term `Adj Close` is a confusing term if you don't read the Yahoo Documentation. In Yahoo, `Adj Close` is documented as adjusted close price adjusted for both dividends and splits.\n",
    "\n",
    "This means this is the column with the true closing price, so these data are very important.\n",
    "\n",
    "Use Pandas to change the name of of the column to `Adj Close` to `Price` so that it is easier to work with the data. Remember to use `inplace=True`.\n",
    "\n",
    "Do this for the Dow Jones and Netflix Quarterly pandas dataframes as well.\n",
    "Hint: Use [`.rename()`](https://pandas.pydata.org/pandas-docs/stable/generated/pandas.DataFrame.rename.html)).\n"
   ]
  },
  {
   "cell_type": "code",
   "execution_count": 70,
   "metadata": {},
   "outputs": [
    {
     "data": {
      "text/html": [
       "<div>\n",
       "<style scoped>\n",
       "    .dataframe tbody tr th:only-of-type {\n",
       "        vertical-align: middle;\n",
       "    }\n",
       "\n",
       "    .dataframe tbody tr th {\n",
       "        vertical-align: top;\n",
       "    }\n",
       "\n",
       "    .dataframe thead th {\n",
       "        text-align: right;\n",
       "    }\n",
       "</style>\n",
       "<table border=\"1\" class=\"dataframe\">\n",
       "  <thead>\n",
       "    <tr style=\"text-align: right;\">\n",
       "      <th></th>\n",
       "      <th>Date</th>\n",
       "      <th>Open</th>\n",
       "      <th>High</th>\n",
       "      <th>Low</th>\n",
       "      <th>Close</th>\n",
       "      <th>Price</th>\n",
       "      <th>Volume</th>\n",
       "      <th>Quarter</th>\n",
       "    </tr>\n",
       "  </thead>\n",
       "  <tbody>\n",
       "    <tr>\n",
       "      <th>0</th>\n",
       "      <td>7/1/2019</td>\n",
       "      <td>373.500000</td>\n",
       "      <td>376.660004</td>\n",
       "      <td>372.000000</td>\n",
       "      <td>374.600006</td>\n",
       "      <td>374.600006</td>\n",
       "      <td>4992600.0</td>\n",
       "      <td>Q3-19</td>\n",
       "    </tr>\n",
       "    <tr>\n",
       "      <th>1</th>\n",
       "      <td>7/2/2019</td>\n",
       "      <td>374.890015</td>\n",
       "      <td>376.000000</td>\n",
       "      <td>370.309998</td>\n",
       "      <td>375.429993</td>\n",
       "      <td>375.429993</td>\n",
       "      <td>3625000.0</td>\n",
       "      <td>Q3-19</td>\n",
       "    </tr>\n",
       "    <tr>\n",
       "      <th>2</th>\n",
       "      <td>7/3/2019</td>\n",
       "      <td>376.690002</td>\n",
       "      <td>381.989990</td>\n",
       "      <td>375.839996</td>\n",
       "      <td>381.720001</td>\n",
       "      <td>381.720001</td>\n",
       "      <td>3799000.0</td>\n",
       "      <td>Q3-19</td>\n",
       "    </tr>\n",
       "    <tr>\n",
       "      <th>3</th>\n",
       "      <td>7/5/2019</td>\n",
       "      <td>378.290009</td>\n",
       "      <td>381.399994</td>\n",
       "      <td>375.559998</td>\n",
       "      <td>380.549988</td>\n",
       "      <td>380.549988</td>\n",
       "      <td>3732200.0</td>\n",
       "      <td>Q3-19</td>\n",
       "    </tr>\n",
       "    <tr>\n",
       "      <th>4</th>\n",
       "      <td>7/8/2019</td>\n",
       "      <td>378.190002</td>\n",
       "      <td>378.250000</td>\n",
       "      <td>375.359985</td>\n",
       "      <td>376.160004</td>\n",
       "      <td>376.160004</td>\n",
       "      <td>3113400.0</td>\n",
       "      <td>Q3-19</td>\n",
       "    </tr>\n",
       "  </tbody>\n",
       "</table>\n",
       "</div>"
      ],
      "text/plain": [
       "       Date        Open        High         Low       Close       Price  \\\n",
       "0  7/1/2019  373.500000  376.660004  372.000000  374.600006  374.600006   \n",
       "1  7/2/2019  374.890015  376.000000  370.309998  375.429993  375.429993   \n",
       "2  7/3/2019  376.690002  381.989990  375.839996  381.720001  381.720001   \n",
       "3  7/5/2019  378.290009  381.399994  375.559998  380.549988  380.549988   \n",
       "4  7/8/2019  378.190002  378.250000  375.359985  376.160004  376.160004   \n",
       "\n",
       "      Volume Quarter  \n",
       "0  4992600.0   Q3-19  \n",
       "1  3625000.0   Q3-19  \n",
       "2  3799000.0   Q3-19  \n",
       "3  3732200.0   Q3-19  \n",
       "4  3113400.0   Q3-19  "
      ]
     },
     "execution_count": 70,
     "metadata": {},
     "output_type": "execute_result"
    }
   ],
   "source": [
    "netflix_stocks.rename(columns={'Adj Close': 'Price'},inplace=True)\n",
    "dowjones_stocks.rename(columns={'Adj Close': 'Price'},inplace=True)\n",
    "netflix_stocks_quarterly.rename(columns={'Adj Close': 'Price'},inplace=True)\n",
    "netflix_stocks.head(5)\n",
    "dowjones_stocks.head(5)\n",
    "netflix_stocks_quarterly.head(5)"
   ]
  },
  {
   "cell_type": "markdown",
   "metadata": {},
   "source": [
    "Run `netflix_stocks.head()` again to check your column name has changed."
   ]
  },
  {
   "cell_type": "code",
   "execution_count": 71,
   "metadata": {},
   "outputs": [
    {
     "data": {
      "text/html": [
       "<div>\n",
       "<style scoped>\n",
       "    .dataframe tbody tr th:only-of-type {\n",
       "        vertical-align: middle;\n",
       "    }\n",
       "\n",
       "    .dataframe tbody tr th {\n",
       "        vertical-align: top;\n",
       "    }\n",
       "\n",
       "    .dataframe thead th {\n",
       "        text-align: right;\n",
       "    }\n",
       "</style>\n",
       "<table border=\"1\" class=\"dataframe\">\n",
       "  <thead>\n",
       "    <tr style=\"text-align: right;\">\n",
       "      <th></th>\n",
       "      <th>Date</th>\n",
       "      <th>Open</th>\n",
       "      <th>High</th>\n",
       "      <th>Low</th>\n",
       "      <th>Close</th>\n",
       "      <th>Price</th>\n",
       "      <th>Volume</th>\n",
       "    </tr>\n",
       "  </thead>\n",
       "  <tbody>\n",
       "    <tr>\n",
       "      <th>0</th>\n",
       "      <td>7/1/2019</td>\n",
       "      <td>373.500000</td>\n",
       "      <td>384.760010</td>\n",
       "      <td>305.809998</td>\n",
       "      <td>322.989990</td>\n",
       "      <td>322.989990</td>\n",
       "      <td>196671300.0</td>\n",
       "    </tr>\n",
       "    <tr>\n",
       "      <th>1</th>\n",
       "      <td>8/1/2019</td>\n",
       "      <td>324.250000</td>\n",
       "      <td>328.579987</td>\n",
       "      <td>287.200012</td>\n",
       "      <td>293.750000</td>\n",
       "      <td>293.750000</td>\n",
       "      <td>137076700.0</td>\n",
       "    </tr>\n",
       "    <tr>\n",
       "      <th>2</th>\n",
       "      <td>9/1/2019</td>\n",
       "      <td>290.820007</td>\n",
       "      <td>301.549988</td>\n",
       "      <td>252.279999</td>\n",
       "      <td>267.619995</td>\n",
       "      <td>267.619995</td>\n",
       "      <td>175411300.0</td>\n",
       "    </tr>\n",
       "    <tr>\n",
       "      <th>3</th>\n",
       "      <td>10/1/2019</td>\n",
       "      <td>267.350006</td>\n",
       "      <td>308.750000</td>\n",
       "      <td>257.010010</td>\n",
       "      <td>287.410004</td>\n",
       "      <td>287.410004</td>\n",
       "      <td>231556400.0</td>\n",
       "    </tr>\n",
       "    <tr>\n",
       "      <th>4</th>\n",
       "      <td>11/1/2019</td>\n",
       "      <td>288.700012</td>\n",
       "      <td>316.820007</td>\n",
       "      <td>281.140015</td>\n",
       "      <td>314.660004</td>\n",
       "      <td>314.660004</td>\n",
       "      <td>113645900.0</td>\n",
       "    </tr>\n",
       "  </tbody>\n",
       "</table>\n",
       "</div>"
      ],
      "text/plain": [
       "        Date        Open        High         Low       Close       Price  \\\n",
       "0   7/1/2019  373.500000  384.760010  305.809998  322.989990  322.989990   \n",
       "1   8/1/2019  324.250000  328.579987  287.200012  293.750000  293.750000   \n",
       "2   9/1/2019  290.820007  301.549988  252.279999  267.619995  267.619995   \n",
       "3  10/1/2019  267.350006  308.750000  257.010010  287.410004  287.410004   \n",
       "4  11/1/2019  288.700012  316.820007  281.140015  314.660004  314.660004   \n",
       "\n",
       "        Volume  \n",
       "0  196671300.0  \n",
       "1  137076700.0  \n",
       "2  175411300.0  \n",
       "3  231556400.0  \n",
       "4  113645900.0  "
      ]
     },
     "execution_count": 71,
     "metadata": {},
     "output_type": "execute_result"
    }
   ],
   "source": [
    "netflix_stocks.head(5)"
   ]
  },
  {
   "cell_type": "markdown",
   "metadata": {},
   "source": [
    "Call `.head()` on the DataFrame `dowjones_stocks` and `netflix_stocks_quarterly`."
   ]
  },
  {
   "cell_type": "code",
   "execution_count": 72,
   "metadata": {},
   "outputs": [
    {
     "data": {
      "text/html": [
       "<div>\n",
       "<style scoped>\n",
       "    .dataframe tbody tr th:only-of-type {\n",
       "        vertical-align: middle;\n",
       "    }\n",
       "\n",
       "    .dataframe tbody tr th {\n",
       "        vertical-align: top;\n",
       "    }\n",
       "\n",
       "    .dataframe thead th {\n",
       "        text-align: right;\n",
       "    }\n",
       "</style>\n",
       "<table border=\"1\" class=\"dataframe\">\n",
       "  <thead>\n",
       "    <tr style=\"text-align: right;\">\n",
       "      <th></th>\n",
       "      <th>Date</th>\n",
       "      <th>Open</th>\n",
       "      <th>High</th>\n",
       "      <th>Low</th>\n",
       "      <th>Close</th>\n",
       "      <th>Price</th>\n",
       "      <th>Volume</th>\n",
       "      <th>Quarter</th>\n",
       "    </tr>\n",
       "  </thead>\n",
       "  <tbody>\n",
       "    <tr>\n",
       "      <th>0</th>\n",
       "      <td>7/1/2019</td>\n",
       "      <td>373.500000</td>\n",
       "      <td>376.660004</td>\n",
       "      <td>372.000000</td>\n",
       "      <td>374.600006</td>\n",
       "      <td>374.600006</td>\n",
       "      <td>4992600.0</td>\n",
       "      <td>Q3-19</td>\n",
       "    </tr>\n",
       "    <tr>\n",
       "      <th>1</th>\n",
       "      <td>7/2/2019</td>\n",
       "      <td>374.890015</td>\n",
       "      <td>376.000000</td>\n",
       "      <td>370.309998</td>\n",
       "      <td>375.429993</td>\n",
       "      <td>375.429993</td>\n",
       "      <td>3625000.0</td>\n",
       "      <td>Q3-19</td>\n",
       "    </tr>\n",
       "    <tr>\n",
       "      <th>2</th>\n",
       "      <td>7/3/2019</td>\n",
       "      <td>376.690002</td>\n",
       "      <td>381.989990</td>\n",
       "      <td>375.839996</td>\n",
       "      <td>381.720001</td>\n",
       "      <td>381.720001</td>\n",
       "      <td>3799000.0</td>\n",
       "      <td>Q3-19</td>\n",
       "    </tr>\n",
       "    <tr>\n",
       "      <th>3</th>\n",
       "      <td>7/5/2019</td>\n",
       "      <td>378.290009</td>\n",
       "      <td>381.399994</td>\n",
       "      <td>375.559998</td>\n",
       "      <td>380.549988</td>\n",
       "      <td>380.549988</td>\n",
       "      <td>3732200.0</td>\n",
       "      <td>Q3-19</td>\n",
       "    </tr>\n",
       "    <tr>\n",
       "      <th>4</th>\n",
       "      <td>7/8/2019</td>\n",
       "      <td>378.190002</td>\n",
       "      <td>378.250000</td>\n",
       "      <td>375.359985</td>\n",
       "      <td>376.160004</td>\n",
       "      <td>376.160004</td>\n",
       "      <td>3113400.0</td>\n",
       "      <td>Q3-19</td>\n",
       "    </tr>\n",
       "  </tbody>\n",
       "</table>\n",
       "</div>"
      ],
      "text/plain": [
       "       Date        Open        High         Low       Close       Price  \\\n",
       "0  7/1/2019  373.500000  376.660004  372.000000  374.600006  374.600006   \n",
       "1  7/2/2019  374.890015  376.000000  370.309998  375.429993  375.429993   \n",
       "2  7/3/2019  376.690002  381.989990  375.839996  381.720001  381.720001   \n",
       "3  7/5/2019  378.290009  381.399994  375.559998  380.549988  380.549988   \n",
       "4  7/8/2019  378.190002  378.250000  375.359985  376.160004  376.160004   \n",
       "\n",
       "      Volume Quarter  \n",
       "0  4992600.0   Q3-19  \n",
       "1  3625000.0   Q3-19  \n",
       "2  3799000.0   Q3-19  \n",
       "3  3732200.0   Q3-19  \n",
       "4  3113400.0   Q3-19  "
      ]
     },
     "execution_count": 72,
     "metadata": {},
     "output_type": "execute_result"
    }
   ],
   "source": [
    "dowjones_stocks.head(5)\n",
    "netflix_stocks_quarterly.head(5)"
   ]
  },
  {
   "cell_type": "markdown",
   "metadata": {},
   "source": [
    "## Step 5\n",
    "\n",
    "In this step, we will be visualizing the Netflix quarterly data! \n",
    "\n",
    "We want to get an understanding of the distribution of the Netflix quarterly stock prices for 2017. Specifically, we want to see in which quarter stock prices flucutated the most. We can accomplish this using a violin plot with four violins, one for each business quarter!\n",
    "\n",
    "\n",
    "1. Start by creating a variable `ax` and setting it equal to `sns.violinplot()`. This will instantiate a figure and give us access to the axes through the variable name `ax`.\n",
    "2. Use `sns.violinplot()` and pass in the following arguments:\n",
    "+ The `Quarter` column as the `x` values\n",
    "+ The `Price` column as your `y` values\n",
    "+ The `netflix_stocks_quarterly` dataframe as your `data`\n",
    "3. Improve the readability of the chart by adding a title of the plot. Add `\"Distribution of 2017 Netflix Stock Prices by Quarter\"` by using `ax.set_title()`\n",
    "4. Change your `ylabel` to \"Closing Stock Price\"\n",
    "5. Change your `xlabel` to \"Business Quarters in 2017\"\n",
    "6. Be sure to show your plot!\n"
   ]
  },
  {
   "cell_type": "code",
   "execution_count": 51,
   "metadata": {
    "scrolled": true
   },
   "outputs": [
    {
     "data": {
      "text/plain": [
       "Text(0, 0.5, 'Closing Stock Price')"
      ]
     },
     "execution_count": 51,
     "metadata": {},
     "output_type": "execute_result"
    },
    {
     "data": {
      "image/png": "[encoded data removed]",
      "text/plain": [
       "<Figure size 432x288 with 1 Axes>"
      ]
     },
     "metadata": {},
     "output_type": "display_data"
    }
   ],
   "source": [
    "#sns.set_style(\"darkgrid\")\n",
    "#sns.set_palette(\"pastel\")\n",
    "\n",
    "ax = sns.violinplot(data=netflix_stocks_quarterly, x='Quarter',y='Price')\n",
    "ax.set_title('Distribution of Netflix Stock Prices by Quarter for the period July-19 to June-20')\n",
    "plt.xlabel(\"Business Quarters for July-19 to June-20\")\n",
    "plt.ylabel('Closing Stock Price')\n"
   ]
  },
  {
   "cell_type": "markdown",
   "metadata": {},
   "source": [
    "## Graph Literacy\n",
    "- What are your first impressions looking at the visualized data?\n",
    "\n",
    "- In what range(s) did most of the prices fall throughout the year?\n",
    "\n",
    "- What were the highest and lowest prices? "
   ]
  },
  {
   "cell_type": "markdown",
   "metadata": {},
   "source": [
    " "
   ]
  },
  {
   "cell_type": "markdown",
   "metadata": {},
   "source": [
    " "
   ]
  },
  {
   "cell_type": "markdown",
   "metadata": {},
   "source": [
    "## Step 6\n",
    "\n",
    "Next, we will chart the performance of the earnings per share (EPS) by graphing the estimate Yahoo projected for the Quarter compared to the actual earnings for that quarters. We will accomplish this using a scatter chart. \n",
    "\n",
    "1. Plot the actual EPS by using `x_positions` and `earnings_actual` with the `plt.scatter()` function. Assign `red` as the color.\n",
    "2. Plot the actual EPS by using `x_positions` and `earnings_estimate` with the `plt.scatter()` function. Assign `blue` as the color\n",
    "\n",
    "3. Often, estimates and actual EPS are the same. To account for this, be sure to set your transparency  `alpha=0.5` to allow for visibility pf overlapping datapoint.\n",
    "4. Add a legend by using `plt.legend()` and passing in a list with two strings `[\"Actual\", \"Estimate\"]`\n",
    "\n",
    "5. Change the `x_ticks` label to reflect each quarter by using `plt.xticks(x_positions, chart_labels)`\n",
    "6. Assing \"`\"Earnings Per Share in Cents\"` as the title of your plot.\n"
   ]
  },
  {
   "cell_type": "code",
   "execution_count": 52,
   "metadata": {},
   "outputs": [
    {
     "data": {
      "text/plain": [
       "Text(0.5, 1.0, 'Earnings Per Share in Cents')"
      ]
     },
     "execution_count": 52,
     "metadata": {},
     "output_type": "execute_result"
    },
    {
     "data": {
      "image/png": "[encoded data removed]",
      "text/plain": [
       "<Figure size 432x288 with 1 Axes>"
      ]
     },
     "metadata": {},
     "output_type": "display_data"
    }
   ],
   "source": [
    "x_positions = [1, 2, 3, 4]\n",
    "chart_labels = [\"Q3-19\",\"Q4-19\",\"Q1-20\",\"Q2-20\"]\n",
    "earnings_actual =[1.47, 1.3,1.57,1.59]\n",
    "earnings_estimate = [1.04,0.53,1.65,1.81]\n",
    "\n",
    "#sns.set_palette('red')\n",
    "\n",
    "plt.scatter(x_positions, earnings_actual, color='red',alpha=0.5)\n",
    "plt.scatter(x_positions,  earnings_estimate, color='blue',alpha=0.5)\n",
    "plt.legend(['Actual','Estimate'])\n",
    "plt.xticks(x_positions,chart_labels)\n",
    "plt.title('Earnings Per Share in Cents')\n",
    "\n",
    "#plt.fill_between('x_positions','earnings_actual','earnings_estimate',alpha=0.5)\n"
   ]
  },
  {
   "cell_type": "markdown",
   "metadata": {
    "collapsed": true
   },
   "source": [
    "## Graph Literacy\n",
    "\n",
    "+ What do the purple dots tell us about the actual and estimate earnings per share in this graph? Hint: In color theory red and blue mix to make purple.\n"
   ]
  },
  {
   "cell_type": "markdown",
   "metadata": {},
   "source": [
    " "
   ]
  },
  {
   "cell_type": "markdown",
   "metadata": {},
   "source": [
    " "
   ]
  },
  {
   "cell_type": "markdown",
   "metadata": {},
   "source": [
    "## Step 7"
   ]
  },
  {
   "cell_type": "markdown",
   "metadata": {},
   "source": [
    "Next, we will visualize the earnings and revenue reported by Netflix by mapping two bars side-by-side. We have visualized a similar chart in the second Matplotlib lesson [Exercise 4](https://www.codecademy.com/courses/learn-matplotlib/lessons/matplotlib-ii/exercises/side-by-side-bars).\n",
    "\n",
    "As you may recall, plotting side-by-side bars in Matplotlib requires computing the width of each bar before hand. We have pasted the starter code for that exercise below. \n",
    "\n",
    "1. Fill in the `n`, `t`, `d`, `w` values for the revenue bars\n",
    "2. Plot the revenue bars by calling `plt.bar()` with the newly computed `x_values` and the `revenue_by_quarter` data\n",
    "3. Fill in the `n`, `t`, `d`, `w` values for the earnings bars\n",
    "4. Plot the revenue bars by calling `plt.bar()` with the newly computed `x_values` and the `earnings_by_quarter` data\n",
    "5. Create a legend for your bar chart with the `labels` provided\n",
    "6. Add a descriptive title for your chart with `plt.title()`\n",
    "7. Add labels to each quarter by assigning the position of the ticks through the code provided. Hint:  `plt.xticks(middle_x, quarter_labels)`\n",
    "8. Be sure to show your plot!\n"
   ]
  },
  {
   "cell_type": "code",
   "execution_count": 55,
   "metadata": {},
   "outputs": [
    {
     "data": {
      "image/png": "[encoded data removed]",
      "text/plain": [
       "<Figure size 432x288 with 1 Axes>"
      ]
     },
     "metadata": {},
     "output_type": "display_data"
    }
   ],
   "source": [
    "# The metrics below are in billions of dollars\n",
    "revenue_by_quarter = [5.24, 5.47, 5.77,6.15]\n",
    "earnings_by_quarter = [0.66524,0.58697,0.70907,0.7202]\n",
    "quarter_labels = [\"Q3-19\",\"Q4-19\",\"Q1-20\", \"Q2-20\"]\n",
    "\n",
    "# Revenue\n",
    "n = 1  # This is our first dataset (out of 2)\n",
    "t = 2 # Number of dataset\n",
    "d = 4 # Number of sets of bars\n",
    "w = 0.5 # Width of each bar\n",
    "bars1_x = [t*element + w*n for element\n",
    "             in range(d)]\n",
    "\n",
    "plt.bar(bars1_x,revenue_by_quarter,alpha=0.5)\n",
    "\n",
    "# Earnings\n",
    "n = 2  # This is our second dataset (out of 2)\n",
    "t = 2 # Number of dataset\n",
    "d = 4 # Number of sets of bars\n",
    "w = 0.5 # Width of each bar\n",
    "bars2_x = [t*element + w*n for element\n",
    "             in range(d)]\n",
    "\n",
    "\n",
    "plt.bar(bars2_x,earnings_by_quarter,alpha=0.5)\n",
    "\n",
    "\n",
    "middle_x = [ (a + b) / 2.0 for a, b in zip(bars1_x, bars2_x)]\n",
    "labels = [\"Revenue\", \"Earnings\"]\n",
    "\n",
    "plt.legend(labels)\n",
    "plt.title(\"earnings and revenue reported by Netflix\")\n",
    "plt.xticks(middle_x, quarter_labels)\n",
    "plt.show()\n"
   ]
  },
  {
   "cell_type": "markdown",
   "metadata": {},
   "source": [
    "## Graph Literacy\n",
    "What are your first impressions looking at the visualized data?\n",
    "\n",
    "- Does Revenue follow a trend?\n",
    "- Do Earnings follow a trend?\n",
    "- Roughly, what percentage of the revenue constitutes earnings?"
   ]
  },
  {
   "cell_type": "code",
   "execution_count": null,
   "metadata": {},
   "outputs": [],
   "source": []
  },
  {
   "cell_type": "markdown",
   "metadata": {},
   "source": [
    "## Step 8\n",
    "\n",
    "In this last step, we will compare Netflix stock to the Dow Jones Industrial Average in 2017. We will accomplish this by plotting two line charts side by side in one figure. \n",
    "\n",
    "Since `Price` which is the most relevant data is in the Y axis, let's map our subplots to align vertically side by side.\n",
    "- We have set up the code for you on line 1 in the cell below. Complete the figure by passing the following arguments to `plt.subplots()` for the first plot, and tweaking the third argument for the second plot\n",
    "    - `1`-- the number of rows for the subplots\n",
    "    - `2` -- the number of columns for the subplots\n",
    "    - `1` -- the subplot you are modifying\n",
    "\n",
    "- Chart the Netflix Stock Prices in the left-hand subplot. Using your data frame, access the `Date` and `Price` charts as the x and y axes respectively. Hint: (`netflix_stocks['Date'], netflix_stocks['Price']`)\n",
    "- Assign \"Netflix\" as a title to this subplot. Hint: `ax1.set_title()`\n",
    "- For each subplot, `set_xlabel` to `\"Date\"` and `set_ylabel` to `\"Stock Price\"`\n",
    "- Chart the Dow Jones Stock Prices in the left-hand subplot. Using your data frame, access the `Date` and `Price` charts as the x and y axes respectively. Hint: (`dowjones_stocks['Date'], dowjones_stocks['Price']`)\n",
    "- Assign \"Dow Jones\" as a title to this subplot. Hint: `plt.set_title()`\n",
    "- There is some crowding in the Y axis labels, add some space by calling `plt.subplots_adjust(wspace=.5)`\n",
    "- Be sure to `.show()` your plots.\n"
   ]
  },
  {
   "cell_type": "code",
   "execution_count": 79,
   "metadata": {},
   "outputs": [
    {
     "data": {
      "image/png": "[encoded data removed]",
      "text/plain": [
       "<Figure size 1152x576 with 2 Axes>"
      ]
     },
     "metadata": {},
     "output_type": "display_data"
    }
   ],
   "source": [
    "plt.figure(figsize=(16,8))\n",
    "\n",
    "# Left plot Netflix\n",
    "ax1 = plt.subplot(1, 2, 1)\n",
    "\n",
    "sns.lineplot(netflix_stocks['Date'], netflix_stocks['Price'])\n",
    "ax1.set_title(\"Netflix\")\n",
    "ax1.set_xlabel(\"Date\")\n",
    "ax1.set_ylabel(\"Stock Price\")\n",
    "\n",
    "\n",
    "# Right plot Dow Jones\n",
    "ax2 = plt.subplot(1, 2, 2)\n",
    "sns.lineplot(dowjones_stocks['Date'], dowjones_stocks['Price'])\n",
    "ax2.set_title(\"Dow Jones\")\n",
    "ax2.set_xlabel(\"Date\")\n",
    "ax2.set_ylabel(\"Stock Price\")\n",
    "\n",
    "plt.subplots_adjust(wspace=.5)\n",
    "\n",
    "plt.show()\n",
    "\n"
   ]
  },
  {
   "cell_type": "markdown",
   "metadata": {},
   "source": [
    "- How did Netflix perform relative to Dow Jones Industrial Average in 2017?\n",
    "- Which was more volatile?\n",
    "- How do the prices of the stocks compare?"
   ]
  },
  {
   "cell_type": "markdown",
   "metadata": {},
   "source": [
    " "
   ]
  },
  {
   "cell_type": "markdown",
   "metadata": {},
   "source": [
    "# Step 9\n",
    "\n",
    "It's time to make your presentation! Save each of your visualizations as a png file with `plt.savefig(\"filename.png\")`.\n",
    "\n",
    "As you prepare your slides, think about the answers to the graph literacy questions. Embed your observations in the narrative of your slideshow!\n",
    "\n",
    "Remember that your slideshow must include:\n",
    "- A title slide\n",
    "- A list of your visualizations and your role in their creation for the \"Stock Profile\" team\n",
    "- A visualization of the distribution of the stock prices for Netflix in 2017\n",
    "- A visualization and a summary of Netflix stock and revenue for the past four quarters and a summary\n",
    "- A visualization and a brief summary of their earned versus actual earnings per share\n",
    "- A visualization of Netflix stock against the Dow Jones stock (to get a sense of the market) in 2017\n"
   ]
  },
  {
   "cell_type": "code",
   "execution_count": null,
   "metadata": {},
   "outputs": [],
   "source": []
  }
 ],
 "metadata": {
  "kernelspec": {
   "display_name": "Python 3",
   "language": "python",
   "name": "python3"
  },
  "language_info": {
   "codemirror_mode": {
    "name": "ipython",
    "version": 3
   },
   "file_extension": ".py",
   "mimetype": "text/x-python",
   "name": "python",
   "nbconvert_exporter": "python",
   "pygments_lexer": "ipython3",
   "version": "3.7.6"
  }
 },
 "nbformat": 4,
 "nbformat_minor": 2
}
